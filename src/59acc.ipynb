{
  "cells": [
    {
      "cell_type": "markdown",
      "metadata": {
        "id": "CUsYc032Htwz"
      },
      "source": [
        "## Imports"
      ]
    },
    {
      "cell_type": "code",
      "execution_count": 1,
      "metadata": {
        "id": "jWW9ffrIHtw0"
      },
      "outputs": [],
      "source": [
        "import copy\n",
        "import os\n",
        "import random\n",
        "import wave\n",
        "from pathlib import Path\n",
        "import numpy as np\n",
        "import tensorflow as tf\n",
        "from keras.models import Sequential\n",
        "from keras.layers import Input, Conv1D, AvgPool1D, MaxPool1D, ZeroPadding1D, BatchNormalization, Flatten, Dense, Activation\n",
        "from keras.utils.data_utils import get_file\n",
        "from keras.utils.np_utils import to_categorical"
      ]
    },
    {
      "cell_type": "markdown",
      "metadata": {
        "id": "Gj59zdKEHtwx"
      },
      "source": [
        "# Lab 6: Project CERN"
      ]
    },
    {
      "cell_type": "code",
      "execution_count": 2,
      "metadata": {
        "colab": {
          "base_uri": "https://localhost:8080/"
        },
        "id": "IWxdY-FiZxYZ",
        "outputId": "4d9c21a1-52bf-4cca-e462-def334bfe1b6"
      },
      "outputs": [
        {
          "name": "stdout",
          "output_type": "stream",
          "text": [
            "Drive already mounted at /content/drive/; to attempt to forcibly remount, call drive.mount(\"/content/drive/\", force_remount=True).\n"
          ]
        }
      ],
      "source": [
        "from google.colab import drive\n",
        "drive.mount('/content/drive/')"
      ]
    },
    {
      "attachments": {},
      "cell_type": "markdown",
      "metadata": {
        "id": "nAUQjeGqHtw0"
      },
      "source": [
        "## Download, cache and extract bird song data"
      ]
    },
    {
      "cell_type": "code",
      "execution_count": 3,
      "metadata": {
        "id": "IRefe0jdHtw1"
      },
      "outputs": [],
      "source": [
        "dataset_dir = Path('datasets')\n",
        "remote_dataset_file='/content/drive/My Drive/dataset_v2.tar.gz'\n",
        "#data_for_processing = keras.utils.get_file(myFile, 'file://'+fullPath)\n",
        "if not (dataset_dir/'testing_list.txt').exists(): # Assume dataset already downloaded/extracted if testing list is present\n",
        "    get_file(None, \"file://\" + remote_dataset_file,\n",
        "                    extract=True,\n",
        "                    cache_dir='.',\n",
        "                    cache_subdir=dataset_dir)"
      ]
    },
    {
      "attachments": {},
      "cell_type": "markdown",
      "metadata": {
        "id": "8PUSpzlEHtw1"
      },
      "source": [
        "## Load Bird song data"
      ]
    },
    {
      "cell_type": "code",
      "execution_count": 4,
      "metadata": {
        "id": "qDqabWUQHtw1"
      },
      "outputs": [],
      "source": [
        "# Classes to handle, ordered by label\n",
        "CLASSES = ['alauda_arvensis', 'cuculus_canorus', 'delichon_urbicum', 'emberiza_cirlus', 'emberiza_citrinella', 'falco_tinnunculus', 'muscicapa_striata', 'sylvia_borin', 'tachybaptus_ruficollis', 'tyto_alba']\n",
        "\n",
        "with (dataset_dir/'testing_list.txt').open() as f:\n",
        "    testing_list = f.read().splitlines()\n",
        "\n",
        "x_train = []\n",
        "y_train = []\n",
        "x_test = []\n",
        "y_test = []\n",
        "\n",
        "for recording in dataset_dir.glob(f'**/*.wav'):\n",
        "    if not recording.parent.name in CLASSES: # Ignore unused classes\n",
        "        print(\"avoid\")\n",
        "        continue\n",
        "    label = CLASSES.index(recording.parent.name) # Assign class number\n",
        "    \n",
        "    with wave.open(str(recording)) as f: # Read wave file\n",
        "        data = np.frombuffer(f.readframes(f.getnframes()), dtype=np.int16).copy() # As 16-bit signed integer\n",
        "        \n",
        "    data = data.astype(np.float32) # Convert to 32-bit floating-point\n",
        "    data.resize((16000, 1)) # Resize to 1s (16kHz) with zero-padding, 1 channel\n",
        "\n",
        "    if str(recording.relative_to(dataset_dir)) in testing_list: # Assign to test set if file in test list\n",
        "        x_test.append(data)\n",
        "        y_test.append(label)\n",
        "    else:\n",
        "        x_train.append(data)\n",
        "        y_train.append(label)\n",
        "\n",
        "x_train = np.array(x_train)\n",
        "y_train = to_categorical(np.array(y_train))\n",
        "x_test = np.array(x_test)\n",
        "y_test = to_categorical(np.array(y_test))"
      ]
    },
    {
      "cell_type": "markdown",
      "metadata": {
        "id": "aabNQpO6Htw2"
      },
      "source": [
        "## Normalize data"
      ]
    },
    {
      "cell_type": "code",
      "execution_count": 5,
      "metadata": {
        "id": "ltQ4e6T2Htw2"
      },
      "outputs": [],
      "source": [
        "# Use train set as a reference for mean/std\n",
        "x_mean = x_train.mean()\n",
        "x_std = x_train.std()\n",
        "\n",
        "x_train -= x_mean\n",
        "x_test  -= x_mean\n",
        "x_train /= x_std\n",
        "x_test  /= x_std"
      ]
    },
    {
      "cell_type": "markdown",
      "metadata": {
        "id": "im4ImwH2Htw3"
      },
      "source": [
        "## Export small dataset (250 random vectors)"
      ]
    },
    {
      "cell_type": "code",
      "execution_count": 6,
      "metadata": {
        "id": "UYPPOx6LHtw3"
      },
      "outputs": [],
      "source": [
        "perms = np.random.permutation(len(y_test))[0:250]\n",
        "x_test_250 = x_test[perms]\n",
        "y_test_250 = y_test[perms]\n",
        "np.savetxt('x_test_gsc_250.csv', x_test_250.reshape((x_test_250.shape[0], -1)), delimiter=',', fmt='%s')\n",
        "np.savetxt('y_test_gsc_250.csv', y_test_250, delimiter=',', fmt='%s')"
      ]
    },
    {
      "cell_type": "markdown",
      "metadata": {
        "id": "dJUV5O1kHtw4"
      },
      "source": [
        "## Build model M5"
      ]
    },
    {
      "cell_type": "code",
      "execution_count": 7,
      "metadata": {
        "colab": {
          "base_uri": "https://localhost:8080/"
        },
        "id": "jhov_0sfHtw4",
        "outputId": "7e42cc72-3937-42ba-8365-82c8e6a8c5d0"
      },
      "outputs": [
        {
          "name": "stdout",
          "output_type": "stream",
          "text": [
            "Model: \"sequential\"\n",
            "_________________________________________________________________\n",
            " Layer (type)                Output Shape              Param #   \n",
            "=================================================================\n",
            " max_pooling1d (MaxPooling1D  (None, 1600, 1)          0         \n",
            " )                                                               \n",
            "                                                                 \n",
            " conv1d (Conv1D)             (None, 381, 32)           2592      \n",
            "                                                                 \n",
            " max_pooling1d_1 (MaxPooling  (None, 95, 32)           0         \n",
            " 1D)                                                             \n",
            "                                                                 \n",
            " conv1d_1 (Conv1D)           (None, 93, 32)            3104      \n",
            "                                                                 \n",
            " max_pooling1d_2 (MaxPooling  (None, 23, 32)           0         \n",
            " 1D)                                                             \n",
            "                                                                 \n",
            " conv1d_2 (Conv1D)           (None, 21, 32)            3104      \n",
            "                                                                 \n",
            " max_pooling1d_3 (MaxPooling  (None, 5, 32)            0         \n",
            " 1D)                                                             \n",
            "                                                                 \n",
            " conv1d_3 (Conv1D)           (None, 3, 32)             3104      \n",
            "                                                                 \n",
            " max_pooling1d_4 (MaxPooling  (None, 3, 32)            0         \n",
            " 1D)                                                             \n",
            "                                                                 \n",
            " flatten (Flatten)           (None, 96)                0         \n",
            "                                                                 \n",
            " dense (Dense)               (None, 10)                970       \n",
            "                                                                 \n",
            " activation (Activation)     (None, 10)                0         \n",
            "                                                                 \n",
            "=================================================================\n",
            "Total params: 12,874\n",
            "Trainable params: 12,874\n",
            "Non-trainable params: 0\n",
            "_________________________________________________________________\n"
          ]
        }
      ],
      "source": [
        "model = Sequential()\n",
        "model.add(Input(shape=(16000, 1)))\n",
        "\n",
        "### SMALLEST\n",
        "\n",
        "model.add(MaxPool1D(pool_size=10))\n",
        "model.add(Conv1D(filters=32, kernel_size=80, strides=4, activation='relu'))\n",
        "model.add(MaxPool1D(pool_size=4))\n",
        "model.add(Conv1D(filters=32, kernel_size=3, activation='relu'))\n",
        "model.add(MaxPool1D(pool_size=4))\n",
        "model.add(Conv1D(filters=32, kernel_size=3, activation='relu'))\n",
        "model.add(MaxPool1D(pool_size=4))\n",
        "model.add(Conv1D(filters=32, kernel_size=3, activation='relu'))\n",
        "model.add(MaxPool1D(pool_size=1))\n",
        "\n",
        "model.add(Flatten())\n",
        "model.add(Dense(units=10))\n",
        "model.add(Activation('softmax'))\n",
        "\n",
        "opt = tf.keras.optimizers.Adam(learning_rate=10e-4)\n",
        "model.summary()\n",
        "model.compile(optimizer=opt, loss='categorical_crossentropy', metrics=['categorical_accuracy'])"
      ]
    },
    {
      "cell_type": "markdown",
      "metadata": {
        "id": "8WX9hiJ0Htw5"
      },
      "source": [
        "## Train model"
      ]
    },
    {
      "cell_type": "code",
      "execution_count": 8,
      "metadata": {
        "colab": {
          "base_uri": "https://localhost:8080/"
        },
        "id": "xKOx6cHSHtw5",
        "outputId": "03f55aa3-a6bf-4d94-a9f9-7fa4d225ac0c"
      },
      "outputs": [
        {
          "name": "stdout",
          "output_type": "stream",
          "text": [
            "Epoch 1/10\n",
            "155/155 [==============================] - 19s 41ms/step - loss: 2.1514 - categorical_accuracy: 0.2368 - val_loss: 1.9842 - val_categorical_accuracy: 0.3186\n",
            "Epoch 2/10\n",
            "155/155 [==============================] - 2s 14ms/step - loss: 1.8652 - categorical_accuracy: 0.3770 - val_loss: 1.7520 - val_categorical_accuracy: 0.4212\n",
            "Epoch 3/10\n",
            "155/155 [==============================] - 2s 15ms/step - loss: 1.6822 - categorical_accuracy: 0.4433 - val_loss: 1.5861 - val_categorical_accuracy: 0.4935\n",
            "Epoch 4/10\n",
            "155/155 [==============================] - 2s 15ms/step - loss: 1.5622 - categorical_accuracy: 0.4824 - val_loss: 1.5521 - val_categorical_accuracy: 0.4806\n",
            "Epoch 5/10\n",
            "155/155 [==============================] - 2s 14ms/step - loss: 1.4724 - categorical_accuracy: 0.5118 - val_loss: 1.4743 - val_categorical_accuracy: 0.5196\n",
            "Epoch 6/10\n",
            "155/155 [==============================] - 3s 17ms/step - loss: 1.4003 - categorical_accuracy: 0.5376 - val_loss: 1.3877 - val_categorical_accuracy: 0.5524\n",
            "Epoch 7/10\n",
            "155/155 [==============================] - 3s 17ms/step - loss: 1.3505 - categorical_accuracy: 0.5549 - val_loss: 1.3536 - val_categorical_accuracy: 0.5590\n",
            "Epoch 8/10\n",
            "155/155 [==============================] - 2s 14ms/step - loss: 1.3184 - categorical_accuracy: 0.5660 - val_loss: 1.2976 - val_categorical_accuracy: 0.5838\n",
            "Epoch 9/10\n",
            "155/155 [==============================] - 2s 14ms/step - loss: 1.2741 - categorical_accuracy: 0.5836 - val_loss: 1.3030 - val_categorical_accuracy: 0.5776\n",
            "Epoch 10/10\n",
            "155/155 [==============================] - 2s 15ms/step - loss: 1.2500 - categorical_accuracy: 0.5951 - val_loss: 1.2750 - val_categorical_accuracy: 0.5951\n"
          ]
        },
        {
          "data": {
            "text/plain": [
              "<keras.callbacks.History at 0x7fdd993c96d0>"
            ]
          },
          "execution_count": 8,
          "metadata": {},
          "output_type": "execute_result"
        }
      ],
      "source": [
        "model.fit(x_train, y_train, epochs=10, batch_size=150, validation_data=(x_test, y_test))"
      ]
    },
    {
      "cell_type": "markdown",
      "metadata": {
        "id": "8mk9x3kaHtw6"
      },
      "source": [
        "## Evaluate model on test dataset"
      ]
    },
    {
      "cell_type": "code",
      "execution_count": 9,
      "metadata": {
        "colab": {
          "base_uri": "https://localhost:8080/"
        },
        "id": "b-aVh4mkHtw6",
        "outputId": "6763866e-d32f-4467-f0ac-f9d5c3f9752b"
      },
      "outputs": [
        {
          "name": "stdout",
          "output_type": "stream",
          "text": [
            "312/312 - 1s - loss: 1.2750 - categorical_accuracy: 0.5951 - 1s/epoch - 4ms/step\n",
            "312/312 [==============================] - 1s 3ms/step\n",
            "tf.Tensor(\n",
            "[[560  16 120  27  60   6  10  90  43  28]\n",
            " [  7 730 124   7  21  11  32  16  17  29]\n",
            " [ 21  38 772  17  13  17  64  33   8  40]\n",
            " [ 27  10 205 507  58  20  37  44  26  44]\n",
            " [ 18   9 121  47 442  44  73 132  25  68]\n",
            " [  9  23 117  18 131 397  83 116  44  80]\n",
            " [  2  32 209  23  79  38 430  43  29  83]\n",
            " [ 46   2  62  13  86  18  13 819   1  10]\n",
            " [  9  14  87  90  50  46 105  47 458  51]\n",
            " [  8  15 107   8  20   6  34   0   6 816]], shape=(10, 10), dtype=int32)\n"
          ]
        }
      ],
      "source": [
        "model.evaluate(x_test, y_test, verbose=2)\n",
        "pred_test = model.predict(x_test)\n",
        "print(tf.math.confusion_matrix(y_test.argmax(axis=1), pred_test.argmax(axis=1)))"
      ]
    },
    {
      "cell_type": "markdown",
      "metadata": {
        "id": "pYI0eCyAHtw6"
      },
      "source": [
        "## Evaluate model on small dataset"
      ]
    },
    {
      "cell_type": "code",
      "execution_count": 10,
      "metadata": {
        "colab": {
          "base_uri": "https://localhost:8080/"
        },
        "id": "NQT1NCgZHtw7",
        "outputId": "856923cf-13cb-462d-b83c-07049d6f6e6b"
      },
      "outputs": [
        {
          "name": "stdout",
          "output_type": "stream",
          "text": [
            "8/8 - 0s - loss: 1.1779 - categorical_accuracy: 0.6160 - 145ms/epoch - 18ms/step\n",
            "8/8 [==============================] - 0s 3ms/step\n",
            "tf.Tensor(\n",
            "[[ 8  1  0  1  1  0  1  2  2  1]\n",
            " [ 0 24  2  0  0  0  1  0  0  1]\n",
            " [ 0  0 23  0  0  0  2  2  0  1]\n",
            " [ 0  0  5 16  1  0  1  1  0  0]\n",
            " [ 1  0  4  1  7  0  1  4  1  1]\n",
            " [ 0  1  4  0  4  7  4  4  3  0]\n",
            " [ 0  1 10  0  1  0  7  1  0  1]\n",
            " [ 1  0  3  0  1  0  0 25  0  0]\n",
            " [ 0  0  1  4  1  1  3  2 10  3]\n",
            " [ 0  0  2  0  1  0  0  0  0 27]], shape=(10, 10), dtype=int32)\n"
          ]
        }
      ],
      "source": [
        "model.evaluate(x_test_250, y_test_250, verbose=2)\n",
        "pred_test_250 = model.predict(x_test_250)\n",
        "print(tf.math.confusion_matrix(y_test_250.argmax(axis=1), pred_test_250.argmax(axis=1)))"
      ]
    },
    {
      "cell_type": "markdown",
      "metadata": {
        "id": "a9Q0QyQ1Htw7"
      },
      "source": [
        "## Save trained model"
      ]
    },
    {
      "cell_type": "code",
      "execution_count": 11,
      "metadata": {
        "id": "DC4OtHB1Htw7"
      },
      "outputs": [],
      "source": [
        "model.save('lab_gsc.h5')"
      ]
    },
    {
      "cell_type": "markdown",
      "metadata": {
        "id": "8uBrbDEjHtw7"
      },
      "source": [
        "## Remove SoftMax layer"
      ]
    },
    {
      "cell_type": "code",
      "execution_count": 12,
      "metadata": {
        "id": "bH8rgn43Htw8"
      },
      "outputs": [],
      "source": [
        "model = tf.keras.Model(model.input, model.layers[-2].output, name=model.name)"
      ]
    },
    {
      "cell_type": "markdown",
      "metadata": {
        "id": "bmUvvTs7Htw9"
      },
      "source": [
        "## Install MicroAI for C inference code generation (kerascnn2c module)"
      ]
    },
    {
      "cell_type": "code",
      "execution_count": 13,
      "metadata": {
        "colab": {
          "base_uri": "https://localhost:8080/"
        },
        "id": "caJaYGcMHtw9",
        "outputId": "5b8827ca-a3f2-4599-ec7b-8f254d008db2"
      },
      "outputs": [
        {
          "name": "stdout",
          "output_type": "stream",
          "text": [
            "Looking in indexes: https://pypi.org/simple, https://us-python.pkg.dev/colab-wheels/public/simple/\n",
            "Collecting https://bitbucket.org/edge-team-leat/microai_public/get/6adfbcb347d3.zip#subdirectory=third_party/kerascnn2c_fixed\n",
            "  Downloading https://bitbucket.org/edge-team-leat/microai_public/get/6adfbcb347d3.zip (1.9 MB)\n",
            "\u001b[2K     \u001b[90m━━━━━━━━━━━━━━━━━━━━━━━━━━━━━━━━━━━━━━━━\u001b[0m \u001b[32m1.9/1.9 MB\u001b[0m \u001b[31m7.7 MB/s\u001b[0m eta \u001b[36m0:00:00\u001b[0m\n",
            "\u001b[?25h  Preparing metadata (setup.py) ... \u001b[?25l\u001b[?25hdone\n",
            "Requirement already satisfied: numpy in /usr/local/lib/python3.9/dist-packages (from kerascnn2c==1.0.0) (1.22.4)\n",
            "Requirement already satisfied: jinja2 in /usr/local/lib/python3.9/dist-packages (from kerascnn2c==1.0.0) (3.1.2)\n",
            "Requirement already satisfied: MarkupSafe>=2.0 in /usr/local/lib/python3.9/dist-packages (from jinja2->kerascnn2c==1.0.0) (2.1.2)\n"
          ]
        }
      ],
      "source": [
        "!pip install https://bitbucket.org/edge-team-leat/microai_public/get/6adfbcb347d3.zip#subdirectory=third_party/kerascnn2c_fixed\n",
        "import kerascnn2c"
      ]
    },
    {
      "cell_type": "markdown",
      "metadata": {
        "id": "2tFAikMxHtw9"
      },
      "source": [
        "## Generate C code for the trained model with 16-bit fixed-point representation"
      ]
    },
    {
      "cell_type": "code",
      "execution_count": 14,
      "metadata": {
        "colab": {
          "base_uri": "https://localhost:8080/"
        },
        "id": "Fby7on6MHtw9",
        "outputId": "ac516719-16c9-4a41-cf02-f875a9d9216d"
      },
      "outputs": [
        {
          "name": "stdout",
          "output_type": "stream",
          "text": [
            "———————————————————————————————————————————————————————————————————————————————————————————————————————\n",
            "Inputs                           | Layer                            | Outputs                         \n",
            "———————————————————————————————————————————————————————————————————————————————————————————————————————\n",
            "                                 | input_1                          | max_pooling1d                   \n",
            "-------------------------------------------------------------------------------------------------------\n",
            "input_1                          | max_pooling1d                    | conv1d                          \n",
            "-------------------------------------------------------------------------------------------------------\n",
            "max_pooling1d                    | conv1d                           | max_pooling1d_1                 \n",
            "-------------------------------------------------------------------------------------------------------\n",
            "conv1d                           | max_pooling1d_1                  | conv1d_1                        \n",
            "-------------------------------------------------------------------------------------------------------\n",
            "max_pooling1d_1                  | conv1d_1                         | max_pooling1d_2                 \n",
            "-------------------------------------------------------------------------------------------------------\n",
            "conv1d_1                         | max_pooling1d_2                  | conv1d_2                        \n",
            "-------------------------------------------------------------------------------------------------------\n",
            "max_pooling1d_2                  | conv1d_2                         | max_pooling1d_3                 \n",
            "-------------------------------------------------------------------------------------------------------\n",
            "conv1d_2                         | max_pooling1d_3                  | conv1d_3                        \n",
            "-------------------------------------------------------------------------------------------------------\n",
            "max_pooling1d_3                  | conv1d_3                         | max_pooling1d_4                 \n",
            "-------------------------------------------------------------------------------------------------------\n",
            "conv1d_3                         | max_pooling1d_4                  | flatten                         \n",
            "-------------------------------------------------------------------------------------------------------\n",
            "max_pooling1d_4                  | flatten                          | dense                           \n",
            "-------------------------------------------------------------------------------------------------------\n",
            "flatten                          | dense                            |                                 \n",
            "-------------------------------------------------------------------------------------------------------\n",
            "\n",
            "After optimization:\n",
            "———————————————————————————————————————————————————————————————————————————————————————————————————————\n",
            "Inputs                           | Layer                            | Outputs                         \n",
            "———————————————————————————————————————————————————————————————————————————————————————————————————————\n",
            "                                 | input_1                          | max_pooling1d                   \n",
            "-------------------------------------------------------------------------------------------------------\n",
            "input_1                          | max_pooling1d                    | conv1d                          \n",
            "-------------------------------------------------------------------------------------------------------\n",
            "max_pooling1d                    | conv1d                           | max_pooling1d_1                 \n",
            "-------------------------------------------------------------------------------------------------------\n",
            "conv1d                           | max_pooling1d_1                  | conv1d_1                        \n",
            "-------------------------------------------------------------------------------------------------------\n",
            "max_pooling1d_1                  | conv1d_1                         | max_pooling1d_2                 \n",
            "-------------------------------------------------------------------------------------------------------\n",
            "conv1d_1                         | max_pooling1d_2                  | conv1d_2                        \n",
            "-------------------------------------------------------------------------------------------------------\n",
            "max_pooling1d_2                  | conv1d_2                         | max_pooling1d_3                 \n",
            "-------------------------------------------------------------------------------------------------------\n",
            "conv1d_2                         | max_pooling1d_3                  | conv1d_3                        \n",
            "-------------------------------------------------------------------------------------------------------\n",
            "max_pooling1d_3                  | conv1d_3                         | max_pooling1d_4                 \n",
            "-------------------------------------------------------------------------------------------------------\n",
            "conv1d_3                         | max_pooling1d_4                  | flatten                         \n",
            "-------------------------------------------------------------------------------------------------------\n",
            "max_pooling1d_4                  | flatten                          | dense                           \n",
            "-------------------------------------------------------------------------------------------------------\n",
            "flatten                          | dense                            |                                 \n",
            "-------------------------------------------------------------------------------------------------------\n",
            "\n"
          ]
        }
      ],
      "source": [
        "res = kerascnn2c.Converter(output_path=Path('gsc_output_fixed'),\n",
        "                           fixed_point=9, # Number of bits for the fractional part, Q7.9 format\n",
        "                           number_type='int16_t', # Data type for weights/activations (16 bits quantization)\n",
        "                           long_number_type='int32_t', # Data type for intermediate results\n",
        "                           number_min=-(2**15), # Minimum value for 16-bit signed integers\n",
        "                           number_max=(2**15)-1 # Maximum value for 16-bit signed integers\n",
        "                          ).convert_model(copy.deepcopy(model))\n",
        "with open('gsc_model_fixed.h', 'w') as f:\n",
        "    f.write(res)"
      ]
    },
    {
      "cell_type": "code",
      "execution_count": 15,
      "metadata": {
        "colab": {
          "base_uri": "https://localhost:8080/"
        },
        "id": "Xf7fgFHYk2nY",
        "outputId": "cf9baf45-e05b-4d80-b36b-6caf4a852e64"
      },
      "outputs": [
        {
          "name": "stdout",
          "output_type": "stream",
          "text": [
            "Drive already mounted at /content/drive; to attempt to forcibly remount, call drive.mount(\"/content/drive\", force_remount=True).\n"
          ]
        }
      ],
      "source": [
        "from google.colab import drive\n",
        "drive.mount('/content/drive')"
      ]
    },
    {
      "cell_type": "markdown",
      "metadata": {
        "id": "5ZZq9iCrHtw9"
      },
      "source": [
        "## Compile the 16-bit fixed-point C code for x86 and evaluate on small dataset"
      ]
    },
    {
      "cell_type": "code",
      "execution_count": 16,
      "metadata": {
        "colab": {
          "base_uri": "https://localhost:8080/"
        },
        "id": "iB3ho11pHtw-",
        "outputId": "3f04ec06-376d-448f-bc9a-f565324440d8"
      },
      "outputs": [
        {
          "name": "stdout",
          "output_type": "stream",
          "text": [
            "\u001b[01m\u001b[Kg++:\u001b[m\u001b[K \u001b[01;31m\u001b[Kerror: \u001b[m\u001b[Kmain.cpp: No such file or directory\n",
            "/bin/bash: ./gsc_fixed: No such file or directory\n"
          ]
        }
      ],
      "source": [
        "!g++ -Wall -Wextra -pedantic -Ofast -o gsc_fixed -Igsc_output_fixed/ gsc_output_fixed/model.c main.cpp \n",
        "!./gsc_fixed x_test_gsc_250.csv y_test_gsc_250.csv"
      ]
    },
    {
      "cell_type": "code",
      "execution_count": 16,
      "metadata": {
        "id": "QT6KfETqHtw-"
      },
      "outputs": [],
      "source": []
    }
  ],
  "metadata": {
    "accelerator": "GPU",
    "colab": {
      "provenance": []
    },
    "gpuClass": "standard",
    "kernelspec": {
      "display_name": "Python 3 (ipykernel)",
      "language": "python",
      "name": "python3"
    },
    "language_info": {
      "codemirror_mode": {
        "name": "ipython",
        "version": 3
      },
      "file_extension": ".py",
      "mimetype": "text/x-python",
      "name": "python",
      "nbconvert_exporter": "python",
      "pygments_lexer": "ipython3",
      "version": "3.10.9"
    }
  },
  "nbformat": 4,
  "nbformat_minor": 0
}
