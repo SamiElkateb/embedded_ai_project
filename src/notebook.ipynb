{
  "cells": [
    {
      "cell_type": "markdown",
      "metadata": {
        "id": "CUsYc032Htwz"
      },
      "source": [
        "## Imports"
      ]
    },
    {
      "cell_type": "code",
      "execution_count": 1,
      "metadata": {
        "id": "jWW9ffrIHtw0"
      },
      "outputs": [],
      "source": [
        "import copy\n",
        "import os\n",
        "import random\n",
        "import wave\n",
        "from pathlib import Path\n",
        "import numpy as np\n",
        "import tensorflow as tf\n",
        "from keras.models import Sequential\n",
        "from keras.layers import Input, Conv1D, AvgPool1D, MaxPool1D, ZeroPadding1D, BatchNormalization, Flatten, Dense, Activation\n",
        "from keras.utils.data_utils import get_file\n",
        "from keras.utils.np_utils import to_categorical"
      ]
    },
    {
      "cell_type": "markdown",
      "metadata": {
        "id": "Gj59zdKEHtwx"
      },
      "source": [
        "# Lab 6: Project CERN"
      ]
    },
    {
      "cell_type": "code",
      "execution_count": 2,
      "metadata": {
        "colab": {
          "base_uri": "https://localhost:8080/"
        },
        "id": "IWxdY-FiZxYZ",
        "outputId": "1e92452d-3867-4960-b5ee-48e745a909ab"
      },
      "outputs": [
        {
          "output_type": "stream",
          "name": "stdout",
          "text": [
            "Drive already mounted at /content/drive/; to attempt to forcibly remount, call drive.mount(\"/content/drive/\", force_remount=True).\n"
          ]
        }
      ],
      "source": [
        "from google.colab import drive\n",
        "drive.mount('/content/drive/')"
      ]
    },
    {
      "cell_type": "markdown",
      "metadata": {
        "id": "nAUQjeGqHtw0"
      },
      "source": [
        "## Download, cache and extract bird song data"
      ]
    },
    {
      "cell_type": "code",
      "execution_count": 3,
      "metadata": {
        "id": "IRefe0jdHtw1"
      },
      "outputs": [],
      "source": [
        "dataset_dir = Path('datasets')\n",
        "remote_dataset_file='/content/drive/My Drive/dataset_v2.tar.gz'\n",
        "#data_for_processing = keras.utils.get_file(myFile, 'file://'+fullPath)\n",
        "if not (dataset_dir/'testing_list.txt').exists(): # Assume dataset already downloaded/extracted if testing list is present\n",
        "    get_file(None, \"file://\" + remote_dataset_file,\n",
        "                    extract=True,\n",
        "                    cache_dir='.',\n",
        "                    cache_subdir=dataset_dir)"
      ]
    },
    {
      "cell_type": "markdown",
      "metadata": {
        "id": "8PUSpzlEHtw1"
      },
      "source": [
        "## Load Bird song data"
      ]
    },
    {
      "cell_type": "code",
      "execution_count": 4,
      "metadata": {
        "id": "qDqabWUQHtw1"
      },
      "outputs": [],
      "source": [
        "# Classes to handle, ordered by label\n",
        "CLASSES = ['alauda_arvensis', 'cuculus_canorus', 'delichon_urbicum', 'emberiza_cirlus', 'emberiza_citrinella', 'falco_tinnunculus', 'muscicapa_striata', 'sylvia_borin', 'tachybaptus_ruficollis', 'tyto_alba']\n",
        "\n",
        "with (dataset_dir/'testing_list.txt').open() as f:\n",
        "    testing_list = f.read().splitlines()\n",
        "\n",
        "x_train = []\n",
        "y_train = []\n",
        "x_test = []\n",
        "y_test = []\n",
        "\n",
        "for recording in dataset_dir.glob(f'**/*.wav'):\n",
        "    if not recording.parent.name in CLASSES: # Ignore unused classes\n",
        "        print(\"avoid\")\n",
        "        continue\n",
        "    label = CLASSES.index(recording.parent.name) # Assign class number\n",
        "    \n",
        "    with wave.open(str(recording)) as f: # Read wave file\n",
        "        data = np.frombuffer(f.readframes(f.getnframes()), dtype=np.int16).copy() # As 16-bit signed integer\n",
        "        \n",
        "    data = data.astype(np.float32) # Convert to 32-bit floating-point\n",
        "    data.resize((16000, 1)) # Resize to 1s (16kHz) with zero-padding, 1 channel\n",
        "\n",
        "    if str(recording.relative_to(dataset_dir)) in testing_list: # Assign to test set if file in test list\n",
        "        x_test.append(data)\n",
        "        y_test.append(label)\n",
        "    else:\n",
        "        x_train.append(data)\n",
        "        y_train.append(label)\n",
        "\n",
        "x_train = np.array(x_train)\n",
        "y_train = to_categorical(np.array(y_train))\n",
        "x_test = np.array(x_test)\n",
        "y_test = to_categorical(np.array(y_test))"
      ]
    },
    {
      "cell_type": "markdown",
      "metadata": {
        "id": "aabNQpO6Htw2"
      },
      "source": [
        "## Normalize data"
      ]
    },
    {
      "cell_type": "code",
      "execution_count": 5,
      "metadata": {
        "id": "ltQ4e6T2Htw2"
      },
      "outputs": [],
      "source": [
        "# Use train set as a reference for mean/std\n",
        "x_mean = x_train.mean()\n",
        "x_std = x_train.std()\n",
        "\n",
        "x_train -= x_mean\n",
        "x_test  -= x_mean\n",
        "x_train /= x_std\n",
        "x_test  /= x_std"
      ]
    },
    {
      "cell_type": "markdown",
      "metadata": {
        "id": "im4ImwH2Htw3"
      },
      "source": [
        "## Export small dataset (250 random vectors)"
      ]
    },
    {
      "cell_type": "code",
      "execution_count": 6,
      "metadata": {
        "id": "UYPPOx6LHtw3"
      },
      "outputs": [],
      "source": [
        "perms = np.random.permutation(len(y_test))[0:250]\n",
        "x_test_250 = x_test[perms]\n",
        "y_test_250 = y_test[perms]\n",
        "np.savetxt('x_test_gsc_250.csv', x_test_250.reshape((x_test_250.shape[0], -1)), delimiter=',', fmt='%s')\n",
        "np.savetxt('y_test_gsc_250.csv', y_test_250, delimiter=',', fmt='%s')"
      ]
    },
    {
      "cell_type": "markdown",
      "metadata": {
        "id": "dJUV5O1kHtw4"
      },
      "source": [
        "## Build model M5"
      ]
    },
    {
      "cell_type": "code",
      "execution_count": 7,
      "metadata": {
        "colab": {
          "base_uri": "https://localhost:8080/"
        },
        "id": "jhov_0sfHtw4",
        "outputId": "a25ee462-c2b4-4d2c-ba06-725c19a03edf"
      },
      "outputs": [
        {
          "output_type": "stream",
          "name": "stdout",
          "text": [
            "Model: \"sequential\"\n",
            "_________________________________________________________________\n",
            " Layer (type)                Output Shape              Param #   \n",
            "=================================================================\n",
            " max_pooling1d (MaxPooling1D  (None, 1600, 1)          0         \n",
            " )                                                               \n",
            "                                                                 \n",
            " conv1d (Conv1D)             (None, 381, 32)           2592      \n",
            "                                                                 \n",
            " max_pooling1d_1 (MaxPooling  (None, 95, 32)           0         \n",
            " 1D)                                                             \n",
            "                                                                 \n",
            " conv1d_1 (Conv1D)           (None, 93, 32)            3104      \n",
            "                                                                 \n",
            " max_pooling1d_2 (MaxPooling  (None, 23, 32)           0         \n",
            " 1D)                                                             \n",
            "                                                                 \n",
            " conv1d_2 (Conv1D)           (None, 21, 32)            3104      \n",
            "                                                                 \n",
            " max_pooling1d_3 (MaxPooling  (None, 5, 32)            0         \n",
            " 1D)                                                             \n",
            "                                                                 \n",
            " conv1d_3 (Conv1D)           (None, 3, 32)             3104      \n",
            "                                                                 \n",
            " max_pooling1d_4 (MaxPooling  (None, 1, 32)            0         \n",
            " 1D)                                                             \n",
            "                                                                 \n",
            " flatten (Flatten)           (None, 32)                0         \n",
            "                                                                 \n",
            " dense (Dense)               (None, 10)                330       \n",
            "                                                                 \n",
            " activation (Activation)     (None, 10)                0         \n",
            "                                                                 \n",
            "=================================================================\n",
            "Total params: 12,234\n",
            "Trainable params: 12,234\n",
            "Non-trainable params: 0\n",
            "_________________________________________________________________\n"
          ]
        }
      ],
      "source": [
        "model = Sequential()\n",
        "model.add(Input(shape=(16000, 1)))\n",
        "\n",
        "model.add(MaxPool1D(pool_size=10))\n",
        "model.add(Conv1D(filters=32, kernel_size=80, strides=4, activation='relu'))\n",
        "model.add(MaxPool1D(pool_size=4))\n",
        "model.add(Conv1D(filters=32, kernel_size=3, activation='relu'))\n",
        "model.add(MaxPool1D(pool_size=4))\n",
        "model.add(Conv1D(filters=32, kernel_size=3, activation='relu'))\n",
        "model.add(MaxPool1D(pool_size=4))\n",
        "model.add(Conv1D(filters=32, kernel_size=3, activation='relu'))\n",
        "model.add(MaxPool1D(pool_size=3))\n",
        "\n",
        "model.add(Flatten())\n",
        "model.add(Dense(units=10))\n",
        "model.add(Activation('softmax'))\n",
        "\n",
        "opt = tf.keras.optimizers.Adam(learning_rate=10e-4)\n",
        "model.summary()\n",
        "model.compile(optimizer=opt, loss='categorical_crossentropy', metrics=['categorical_accuracy'])"
      ]
    },
    {
      "cell_type": "markdown",
      "metadata": {
        "id": "8WX9hiJ0Htw5"
      },
      "source": [
        "## Train model"
      ]
    },
    {
      "cell_type": "code",
      "execution_count": 8,
      "metadata": {
        "colab": {
          "base_uri": "https://localhost:8080/"
        },
        "id": "xKOx6cHSHtw5",
        "outputId": "71e09aad-e818-43d6-83e9-c6cd9405f86b"
      },
      "outputs": [
        {
          "output_type": "stream",
          "name": "stdout",
          "text": [
            "Epoch 1/10\n",
            "155/155 [==============================] - 7s 19ms/step - loss: 2.1451 - categorical_accuracy: 0.2409 - val_loss: 2.0335 - val_categorical_accuracy: 0.2884\n",
            "Epoch 2/10\n",
            "155/155 [==============================] - 2s 14ms/step - loss: 1.8846 - categorical_accuracy: 0.3632 - val_loss: 1.7948 - val_categorical_accuracy: 0.4004\n",
            "Epoch 3/10\n",
            "155/155 [==============================] - 2s 16ms/step - loss: 1.7132 - categorical_accuracy: 0.4272 - val_loss: 1.6266 - val_categorical_accuracy: 0.4605\n",
            "Epoch 4/10\n",
            "155/155 [==============================] - 2s 14ms/step - loss: 1.5899 - categorical_accuracy: 0.4683 - val_loss: 1.5129 - val_categorical_accuracy: 0.5068\n",
            "Epoch 5/10\n",
            "155/155 [==============================] - 2s 13ms/step - loss: 1.4971 - categorical_accuracy: 0.5031 - val_loss: 1.4601 - val_categorical_accuracy: 0.5290\n",
            "Epoch 6/10\n",
            "155/155 [==============================] - 2s 13ms/step - loss: 1.4295 - categorical_accuracy: 0.5276 - val_loss: 1.4289 - val_categorical_accuracy: 0.5283\n",
            "Epoch 7/10\n",
            "155/155 [==============================] - 2s 13ms/step - loss: 1.3803 - categorical_accuracy: 0.5439 - val_loss: 1.3790 - val_categorical_accuracy: 0.5493\n",
            "Epoch 8/10\n",
            "155/155 [==============================] - 2s 14ms/step - loss: 1.3359 - categorical_accuracy: 0.5623 - val_loss: 1.3418 - val_categorical_accuracy: 0.5672\n",
            "Epoch 9/10\n",
            "155/155 [==============================] - 3s 16ms/step - loss: 1.2949 - categorical_accuracy: 0.5732 - val_loss: 1.3229 - val_categorical_accuracy: 0.5792\n",
            "Epoch 10/10\n",
            "155/155 [==============================] - 2s 14ms/step - loss: 1.2677 - categorical_accuracy: 0.5875 - val_loss: 1.3118 - val_categorical_accuracy: 0.5828\n"
          ]
        },
        {
          "output_type": "execute_result",
          "data": {
            "text/plain": [
              "<keras.callbacks.History at 0x7faae956e560>"
            ]
          },
          "metadata": {},
          "execution_count": 8
        }
      ],
      "source": [
        "model.fit(x_train, y_train, epochs=10, batch_size=150, validation_data=(x_test, y_test))"
      ]
    },
    {
      "cell_type": "markdown",
      "metadata": {
        "id": "8mk9x3kaHtw6"
      },
      "source": [
        "## Evaluate model on test dataset"
      ]
    },
    {
      "cell_type": "code",
      "execution_count": 9,
      "metadata": {
        "colab": {
          "base_uri": "https://localhost:8080/"
        },
        "id": "b-aVh4mkHtw6",
        "outputId": "4da57fea-9263-41e5-a176-d28d7dc7b28c"
      },
      "outputs": [
        {
          "output_type": "stream",
          "name": "stdout",
          "text": [
            "312/312 - 1s - loss: 1.3118 - categorical_accuracy: 0.5828 - 1s/epoch - 5ms/step\n",
            "312/312 [==============================] - 1s 3ms/step\n",
            "tf.Tensor(\n",
            "[[625   5  45  81  38  19  25  56  54  12]\n",
            " [  7 661  83  63   6  53  48  13  48  12]\n",
            " [ 50  23 539 120  14  62 115  33  36  31]\n",
            " [ 38   1  80 606  35  43  33  23  95  24]\n",
            " [ 41  12  43 144 378 125  47  77  82  30]\n",
            " [  8  10  55 100  44 524  42  64 101  70]\n",
            " [ 11  37 110 108  31 115 380  20  99  57]\n",
            " [ 99   5  39  36  44  81  10 680  72   4]\n",
            " [ 15  12  38 103  12  80  54  13 596  34]\n",
            " [  9   6  30  76   2  12  44   0  21 820]], shape=(10, 10), dtype=int32)\n"
          ]
        }
      ],
      "source": [
        "model.evaluate(x_test, y_test, verbose=2)\n",
        "pred_test = model.predict(x_test)\n",
        "print(tf.math.confusion_matrix(y_test.argmax(axis=1), pred_test.argmax(axis=1)))"
      ]
    },
    {
      "cell_type": "markdown",
      "metadata": {
        "id": "pYI0eCyAHtw6"
      },
      "source": [
        "## Evaluate model on small dataset"
      ]
    },
    {
      "cell_type": "code",
      "execution_count": 10,
      "metadata": {
        "colab": {
          "base_uri": "https://localhost:8080/"
        },
        "id": "NQT1NCgZHtw7",
        "outputId": "980086f8-7586-4695-a0ce-a6f45331260f"
      },
      "outputs": [
        {
          "output_type": "stream",
          "name": "stdout",
          "text": [
            "8/8 - 0s - loss: 1.2440 - categorical_accuracy: 0.6040 - 168ms/epoch - 21ms/step\n",
            "8/8 [==============================] - 0s 5ms/step\n",
            "tf.Tensor(\n",
            "[[13  0  2  1  0  0  0  1  3  1]\n",
            " [ 0 16  3  1  0  0  1  1  0  1]\n",
            " [ 1  0 17  4  0  3  4  2  0  0]\n",
            " [ 1  0  0 15  1  2  1  0  2  0]\n",
            " [ 0  0  0  5 10  3  0  3  1  0]\n",
            " [ 0  1  1  4  1  9  1  2  1  2]\n",
            " [ 0  1  5  3  0  2 15  1  2  2]\n",
            " [ 2  0  1  0  4  1  1 19  2  0]\n",
            " [ 0  1  2  3  0  1  1  0 17  1]\n",
            " [ 0  0  0  1  0  0  1  0  0 20]], shape=(10, 10), dtype=int32)\n"
          ]
        }
      ],
      "source": [
        "model.evaluate(x_test_250, y_test_250, verbose=2)\n",
        "pred_test_250 = model.predict(x_test_250)\n",
        "print(tf.math.confusion_matrix(y_test_250.argmax(axis=1), pred_test_250.argmax(axis=1)))"
      ]
    },
    {
      "cell_type": "markdown",
      "metadata": {
        "id": "a9Q0QyQ1Htw7"
      },
      "source": [
        "## Save trained model"
      ]
    },
    {
      "cell_type": "code",
      "execution_count": 11,
      "metadata": {
        "id": "DC4OtHB1Htw7"
      },
      "outputs": [],
      "source": [
        "model.save('lab_gsc.h5')"
      ]
    },
    {
      "cell_type": "markdown",
      "metadata": {
        "id": "8uBrbDEjHtw7"
      },
      "source": [
        "## Remove SoftMax layer"
      ]
    },
    {
      "cell_type": "code",
      "execution_count": 12,
      "metadata": {
        "id": "bH8rgn43Htw8"
      },
      "outputs": [],
      "source": [
        "model = tf.keras.Model(model.input, model.layers[-2].output, name=model.name)"
      ]
    },
    {
      "cell_type": "markdown",
      "metadata": {
        "id": "bmUvvTs7Htw9"
      },
      "source": [
        "## Install MicroAI for C inference code generation (kerascnn2c module)"
      ]
    },
    {
      "cell_type": "code",
      "execution_count": 13,
      "metadata": {
        "colab": {
          "base_uri": "https://localhost:8080/"
        },
        "id": "caJaYGcMHtw9",
        "outputId": "fd6916a9-6cdf-455c-e6d3-ec6411009cb2"
      },
      "outputs": [
        {
          "output_type": "stream",
          "name": "stdout",
          "text": [
            "Looking in indexes: https://pypi.org/simple, https://us-python.pkg.dev/colab-wheels/public/simple/\n",
            "Collecting https://bitbucket.org/edge-team-leat/microai_public/get/6adfbcb347d3.zip#subdirectory=third_party/kerascnn2c_fixed\n",
            "  Downloading https://bitbucket.org/edge-team-leat/microai_public/get/6adfbcb347d3.zip (1.9 MB)\n",
            "\u001b[2K     \u001b[90m━━━━━━━━━━━━━━━━━━━━━━━━━━━━━━━━━━━━━━━━\u001b[0m \u001b[32m1.9/1.9 MB\u001b[0m \u001b[31m2.0 MB/s\u001b[0m eta \u001b[36m0:00:00\u001b[0m\n",
            "\u001b[?25h  Preparing metadata (setup.py) ... \u001b[?25l\u001b[?25hdone\n",
            "Requirement already satisfied: numpy in /usr/local/lib/python3.10/dist-packages (from kerascnn2c==1.0.0) (1.22.4)\n",
            "Requirement already satisfied: jinja2 in /usr/local/lib/python3.10/dist-packages (from kerascnn2c==1.0.0) (3.1.2)\n",
            "Requirement already satisfied: MarkupSafe>=2.0 in /usr/local/lib/python3.10/dist-packages (from jinja2->kerascnn2c==1.0.0) (2.1.2)\n"
          ]
        }
      ],
      "source": [
        "!pip install https://bitbucket.org/edge-team-leat/microai_public/get/6adfbcb347d3.zip#subdirectory=third_party/kerascnn2c_fixed\n",
        "import kerascnn2c"
      ]
    },
    {
      "cell_type": "markdown",
      "metadata": {
        "id": "2tFAikMxHtw9"
      },
      "source": [
        "## Generate C code for the trained model with 16-bit fixed-point representation"
      ]
    },
    {
      "cell_type": "code",
      "execution_count": 14,
      "metadata": {
        "colab": {
          "base_uri": "https://localhost:8080/"
        },
        "id": "Fby7on6MHtw9",
        "outputId": "e8e6c888-b466-4525-885a-c15f00923824"
      },
      "outputs": [
        {
          "output_type": "stream",
          "name": "stdout",
          "text": [
            "———————————————————————————————————————————————————————————————————————————————————————————————————————\n",
            "Inputs                           | Layer                            | Outputs                         \n",
            "———————————————————————————————————————————————————————————————————————————————————————————————————————\n",
            "                                 | input_1                          | max_pooling1d                   \n",
            "-------------------------------------------------------------------------------------------------------\n",
            "input_1                          | max_pooling1d                    | conv1d                          \n",
            "-------------------------------------------------------------------------------------------------------\n",
            "max_pooling1d                    | conv1d                           | max_pooling1d_1                 \n",
            "-------------------------------------------------------------------------------------------------------\n",
            "conv1d                           | max_pooling1d_1                  | conv1d_1                        \n",
            "-------------------------------------------------------------------------------------------------------\n",
            "max_pooling1d_1                  | conv1d_1                         | max_pooling1d_2                 \n",
            "-------------------------------------------------------------------------------------------------------\n",
            "conv1d_1                         | max_pooling1d_2                  | conv1d_2                        \n",
            "-------------------------------------------------------------------------------------------------------\n",
            "max_pooling1d_2                  | conv1d_2                         | max_pooling1d_3                 \n",
            "-------------------------------------------------------------------------------------------------------\n",
            "conv1d_2                         | max_pooling1d_3                  | conv1d_3                        \n",
            "-------------------------------------------------------------------------------------------------------\n",
            "max_pooling1d_3                  | conv1d_3                         | max_pooling1d_4                 \n",
            "-------------------------------------------------------------------------------------------------------\n",
            "conv1d_3                         | max_pooling1d_4                  | flatten                         \n",
            "-------------------------------------------------------------------------------------------------------\n",
            "max_pooling1d_4                  | flatten                          | dense                           \n",
            "-------------------------------------------------------------------------------------------------------\n",
            "flatten                          | dense                            |                                 \n",
            "-------------------------------------------------------------------------------------------------------\n",
            "\n",
            "After optimization:\n",
            "———————————————————————————————————————————————————————————————————————————————————————————————————————\n",
            "Inputs                           | Layer                            | Outputs                         \n",
            "———————————————————————————————————————————————————————————————————————————————————————————————————————\n",
            "                                 | input_1                          | max_pooling1d                   \n",
            "-------------------------------------------------------------------------------------------------------\n",
            "input_1                          | max_pooling1d                    | conv1d                          \n",
            "-------------------------------------------------------------------------------------------------------\n",
            "max_pooling1d                    | conv1d                           | max_pooling1d_1                 \n",
            "-------------------------------------------------------------------------------------------------------\n",
            "conv1d                           | max_pooling1d_1                  | conv1d_1                        \n",
            "-------------------------------------------------------------------------------------------------------\n",
            "max_pooling1d_1                  | conv1d_1                         | max_pooling1d_2                 \n",
            "-------------------------------------------------------------------------------------------------------\n",
            "conv1d_1                         | max_pooling1d_2                  | conv1d_2                        \n",
            "-------------------------------------------------------------------------------------------------------\n",
            "max_pooling1d_2                  | conv1d_2                         | max_pooling1d_3                 \n",
            "-------------------------------------------------------------------------------------------------------\n",
            "conv1d_2                         | max_pooling1d_3                  | conv1d_3                        \n",
            "-------------------------------------------------------------------------------------------------------\n",
            "max_pooling1d_3                  | conv1d_3                         | max_pooling1d_4                 \n",
            "-------------------------------------------------------------------------------------------------------\n",
            "conv1d_3                         | max_pooling1d_4                  | flatten                         \n",
            "-------------------------------------------------------------------------------------------------------\n",
            "max_pooling1d_4                  | flatten                          | dense                           \n",
            "-------------------------------------------------------------------------------------------------------\n",
            "flatten                          | dense                            |                                 \n",
            "-------------------------------------------------------------------------------------------------------\n",
            "\n"
          ]
        }
      ],
      "source": [
        "res = kerascnn2c.Converter(output_path=Path('gsc_output_fixed'),\n",
        "                           fixed_point=9, # Number of bits for the fractional part, Q7.9 format\n",
        "                           number_type='int16_t', # Data type for weights/activations (16 bits quantization)\n",
        "                           long_number_type='int32_t', # Data type for intermediate results\n",
        "                           number_min=-(2**15), # Minimum value for 16-bit signed integers\n",
        "                           number_max=(2**15)-1 # Maximum value for 16-bit signed integers\n",
        "                          ).convert_model(copy.deepcopy(model))\n",
        "with open('gsc_model_fixed.h', 'w') as f:\n",
        "    f.write(res)"
      ]
    },
    {
      "cell_type": "code",
      "execution_count": 15,
      "metadata": {
        "colab": {
          "base_uri": "https://localhost:8080/"
        },
        "id": "Xf7fgFHYk2nY",
        "outputId": "84d4a1cb-dc95-447c-8905-658cab5ce744"
      },
      "outputs": [
        {
          "output_type": "stream",
          "name": "stdout",
          "text": [
            "Drive already mounted at /content/drive; to attempt to forcibly remount, call drive.mount(\"/content/drive\", force_remount=True).\n"
          ]
        }
      ],
      "source": [
        "from google.colab import drive\n",
        "drive.mount('/content/drive')"
      ]
    },
    {
      "cell_type": "markdown",
      "metadata": {
        "id": "5ZZq9iCrHtw9"
      },
      "source": [
        "## Compile the 16-bit fixed-point C code for x86 and evaluate on small dataset"
      ]
    },
    {
      "cell_type": "code",
      "execution_count": 16,
      "metadata": {
        "colab": {
          "base_uri": "https://localhost:8080/"
        },
        "id": "iB3ho11pHtw-",
        "outputId": "eba448c0-fb02-46b0-9854-3e2891c861be"
      },
      "outputs": [
        {
          "output_type": "stream",
          "name": "stdout",
          "text": [
            "\u001b[01m\u001b[Kg++:\u001b[m\u001b[K \u001b[01;31m\u001b[Kerror: \u001b[m\u001b[Kmain.cpp: No such file or directory\n",
            "/bin/bash: ./gsc_fixed: No such file or directory\n"
          ]
        }
      ],
      "source": [
        "!g++ -Wall -Wextra -pedantic -Ofast -o gsc_fixed -Igsc_output_fixed/ gsc_output_fixed/model.c main.cpp \n",
        "!./gsc_fixed x_test_gsc_250.csv y_test_gsc_250.csv"
      ]
    },
    {
      "cell_type": "code",
      "execution_count": 16,
      "metadata": {
        "id": "QT6KfETqHtw-"
      },
      "outputs": [],
      "source": []
    }
  ],
  "metadata": {
    "accelerator": "GPU",
    "colab": {
      "provenance": []
    },
    "gpuClass": "standard",
    "kernelspec": {
      "display_name": "Python 3 (ipykernel)",
      "language": "python",
      "name": "python3"
    },
    "language_info": {
      "codemirror_mode": {
        "name": "ipython",
        "version": 3
      },
      "file_extension": ".py",
      "mimetype": "text/x-python",
      "name": "python",
      "nbconvert_exporter": "python",
      "pygments_lexer": "ipython3",
      "version": "3.10.9"
    }
  },
  "nbformat": 4,
  "nbformat_minor": 0
}